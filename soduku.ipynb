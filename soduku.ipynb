{
 "metadata": {
  "language_info": {
   "codemirror_mode": {
    "name": "ipython",
    "version": 3
   },
   "file_extension": ".py",
   "mimetype": "text/x-python",
   "name": "python",
   "nbconvert_exporter": "python",
   "pygments_lexer": "ipython3",
   "version": "3.7.3"
  },
  "orig_nbformat": 2,
  "kernelspec": {
   "name": "python3",
   "display_name": "Python 3.7.3 64-bit",
   "metadata": {
    "interpreter": {
     "hash": "31f2aee4e71d21fbe5cf8b01ff0e069b9275f58929596ceb00d14d90e3e16cd6"
    }
   }
  }
 },
 "nbformat": 4,
 "nbformat_minor": 2,
 "cells": [
  {
   "cell_type": "code",
   "execution_count": 39,
   "metadata": {},
   "outputs": [],
   "source": [
    "import pandas as pd\n",
    "import numpy as np\n",
    "import time"
   ]
  },
  {
   "cell_type": "code",
   "execution_count": 52,
   "metadata": {},
   "outputs": [
    {
     "output_type": "stream",
     "name": "stdout",
     "text": [
      "[['.' '.' '.' '.' '.' '.' '.' '9' '.']\n ['.' '7' '.' '.' '5' '3' '.' '.' '6']\n ['2' '.' '.' '.' '.' '.' '3' '.' '5']\n ['.' '.' '4' '.' '3' '5' '.' '.' '7']\n ['.' '.' '1' '.' '6' '.' '.' '.' '.']\n ['.' '.' '7' '.' '1' '2' '.' '.' '8']\n ['6' '.' '.' '.' '.' '.' '7' '.' '1']\n ['.' '3' '.' '.' '7' '1' '.' '.' '2']\n ['.' '.' '.' '.' '.' '.' '.' '4' '.']]\n"
     ]
    }
   ],
   "source": [
    "test_board = load_board_for_solver('guardian-04-09-21.csv')\n",
    "print(test_board)"
   ]
  },
  {
   "cell_type": "code",
   "execution_count": 4,
   "metadata": {},
   "outputs": [],
   "source": [
    "def load_board_for_solver(path):\n",
    "    board_df = pd.read_csv(path, header=None)\n",
    "    board = board_df.to_numpy()\n",
    "    assert board.shape[0] == 9 and board.shape[1] == 9, \"Incorrect dimensions. Board must be 9 x 9\"\n",
    "    return board"
   ]
  },
  {
   "cell_type": "code",
   "execution_count": 5,
   "metadata": {},
   "outputs": [],
   "source": [
    "def is_complete(board):\n",
    "    for i in range(0,board.shape[0]):\n",
    "        for j in range(0, board.shape[1]):\n",
    "            if board[i][j] not in list(map(str, range(1,10))):\n",
    "                return False\n",
    "    return True\n",
    "\n",
    "assert is_complete(test_board) == False\n",
    "filled_board = np.full((9,9), '1')\n",
    "assert is_complete(filled_board) == True"
   ]
  },
  {
   "cell_type": "code",
   "execution_count": 6,
   "metadata": {},
   "outputs": [],
   "source": [
    "def convert_position_to_indices(position):\n",
    "    row_index = ord(position[0]) - 65\n",
    "    column_index = ord(position[1]) - 49 \n",
    "    return row_index, column_index\n",
    "\n",
    "row_index, column_index = convert_position_to_indices(\"A1\")\n",
    "assert row_index == 0 and column_index == 0\n",
    "row_index, column_index = convert_position_to_indices(\"I9\")\n",
    "assert row_index == 8 and column_index == 8"
   ]
  },
  {
   "cell_type": "code",
   "execution_count": 7,
   "metadata": {},
   "outputs": [],
   "source": [
    "def is_square_free(position, board):\n",
    "    row_index, column_index = convert_position_to_indices(position)\n",
    "    if board[row_index][column_index] == '.':\n",
    "        return True\n",
    "    return False\n",
    "\n",
    "assert is_square_free('A1', test_board) == True\n",
    "assert is_square_free('C1', test_board) == False"
   ]
  },
  {
   "cell_type": "code",
   "execution_count": 8,
   "metadata": {},
   "outputs": [],
   "source": [
    "def is_row_free(position, digit, board):\n",
    "    row_index, column_index = convert_position_to_indices(position)\n",
    "    if digit in list(board[row_index, :]):\n",
    "        return False\n",
    "    return True\n",
    "\n",
    "assert is_row_free('A1', '1', test_board) == True\n",
    "assert is_row_free('A1', '9', test_board) == False"
   ]
  },
  {
   "cell_type": "code",
   "execution_count": 9,
   "metadata": {},
   "outputs": [],
   "source": [
    "def is_column_free(position, digit, board):\n",
    "    row_index, column_index = convert_position_to_indices(position)\n",
    "    if digit in list(board[:, column_index]):\n",
    "        return False\n",
    "    return True\n",
    "\n",
    "assert is_column_free('A1', '8', test_board) == True\n",
    "assert is_column_free('A1', '2', test_board) == False"
   ]
  },
  {
   "cell_type": "code",
   "execution_count": 10,
   "metadata": {},
   "outputs": [],
   "source": [
    "def is_box_free(position, digit, board):\n",
    "    row_index, column_index = convert_position_to_indices(position)\n",
    "    vertical_box = row_index // 3\n",
    "    horizontal_box = column_index // 3\n",
    "    if digit in list(board[vertical_box*3: vertical_box*3 +3, horizontal_box*3: horizontal_box*3 + 3].flatten()):\n",
    "        return False\n",
    "    return True\n",
    "\n",
    "assert is_box_free('H5', '2', test_board) == True\n",
    "assert is_box_free('D4', '3', test_board) == False"
   ]
  },
  {
   "cell_type": "code",
   "execution_count": 11,
   "metadata": {},
   "outputs": [],
   "source": [
    "def insert_digit(position, digit, board):\n",
    "    row_index, column_index = convert_position_to_indices(position)\n",
    "    board[row_index][column_index] = digit \n",
    "\n",
    "insert_digit('A1', '1', test_board)\n",
    "assert test_board[0][0] == '1'\n",
    "insert_digit('A1', '.', test_board)\n",
    "assert test_board[0][0] == '.'"
   ]
  },
  {
   "cell_type": "code",
   "execution_count": 12,
   "metadata": {},
   "outputs": [],
   "source": [
    "def make_move(position, digit, board):\n",
    "    if not is_square_free(position, board):\n",
    "        return False\n",
    "    if not is_row_free(position, digit, board):\n",
    "        return False\n",
    "    if not is_column_free(position, digit, board):\n",
    "        return False\n",
    "    if not is_box_free(position, digit, board):\n",
    "        return False\n",
    "    insert_digit(position, digit, board)\n",
    "    return True\n",
    "\n",
    "make_move('D7', '1', test_board)\n",
    "assert test_board[3][6] == '1'\n",
    "insert_digit('D7', '.', test_board)\n",
    "assert test_board[3][6] == '.'\n",
    "assert make_move('A8', '1', test_board) == False"
   ]
  },
  {
   "cell_type": "code",
   "execution_count": 13,
   "metadata": {},
   "outputs": [],
   "source": [
    "def next_position(position):\n",
    "    next_row = next_column = ''\n",
    "    if position[1] == '9':\n",
    "        next_row = chr(ord(position[0])+1)\n",
    "        next_column = '1'\n",
    "    else:\n",
    "        next_row = position[0]\n",
    "        next_column = chr(ord(position[1])+1)\n",
    "    return next_row + next_column\n",
    "        \n",
    "assert next_position('A1') == 'A2'\n",
    "assert next_position('A9') == 'B1'"
   ]
  },
  {
   "cell_type": "code",
   "execution_count": 15,
   "metadata": {},
   "outputs": [],
   "source": [
    "def fill_square(position, board):\n",
    "    if is_square_free(position, board):\n",
    "        for digit in list(map(str, range(1,10))):\n",
    "            if make_move(position, digit, board):\n",
    "                if position == 'I9':\n",
    "                    return True\n",
    "                if fill_square(next_position(position), board):\n",
    "                    return True\n",
    "                insert_digit(position, '.', board)\n",
    "    else:\n",
    "        if position == 'I9':\n",
    "            return True \n",
    "        if fill_square(next_position(position), board):\n",
    "            return True\n",
    "        return False\n",
    "    return False"
   ]
  },
  {
   "cell_type": "code",
   "execution_count": 45,
   "metadata": {},
   "outputs": [],
   "source": [
    "def solve_board(board):\n",
    "    t_start = time.clock()\n",
    "    if fill_square('A1', board):\n",
    "        t_end = time.clock()\n",
    "        print(\"Time to solve (ms): \", round((t_end - t_start) * 1000, 1))\n",
    "        print(board)\n",
    "    else:\n",
    "        print(\"Cannot be solved\")"
   ]
  },
  {
   "cell_type": "code",
   "execution_count": 48,
   "metadata": {},
   "outputs": [
    {
     "output_type": "stream",
     "name": "stdout",
     "text": [
      "Time to solve (ms):  1399.3\n[['8' '5' '3' '6' '2' '7' '1' '9' '4']\n ['1' '7' '9' '4' '5' '3' '2' '8' '6']\n ['2' '4' '6' '1' '8' '9' '3' '7' '5']\n ['9' '2' '4' '8' '3' '5' '6' '1' '7']\n ['3' '8' '1' '7' '6' '4' '5' '2' '9']\n ['5' '6' '7' '9' '1' '2' '4' '3' '8']\n ['6' '9' '2' '3' '4' '8' '7' '5' '1']\n ['4' '3' '8' '5' '7' '1' '9' '6' '2']\n ['7' '1' '5' '2' '9' '6' '8' '4' '3']]\n"
     ]
    }
   ],
   "source": [
    "board = load_board_for_solver('guardian-04-09-21.csv')\n",
    "solve_board(board)"
   ]
  },
  {
   "cell_type": "code",
   "execution_count": 49,
   "metadata": {},
   "outputs": [
    {
     "output_type": "stream",
     "name": "stdout",
     "text": [
      "Time to solve (ms):  1347.9\n[['1' '9' '8' '5' '7' '4' '3' '6' '2']\n ['6' '2' '4' '9' '3' '1' '8' '5' '7']\n ['7' '3' '5' '6' '8' '2' '9' '1' '4']\n ['8' '6' '3' '1' '2' '7' '5' '4' '9']\n ['2' '5' '7' '4' '9' '8' '6' '3' '1']\n ['4' '1' '9' '3' '5' '6' '2' '7' '8']\n ['9' '7' '6' '2' '4' '5' '1' '8' '3']\n ['3' '4' '1' '8' '6' '9' '7' '2' '5']\n ['5' '8' '2' '7' '1' '3' '4' '9' '6']]\n"
     ]
    }
   ],
   "source": [
    "board = load_board_for_solver('guardian-09-10-21.csv')\n",
    "solve_board(board)"
   ]
  },
  {
   "cell_type": "code",
   "execution_count": 47,
   "metadata": {},
   "outputs": [
    {
     "output_type": "stream",
     "name": "stdout",
     "text": [
      "Time to solve (ms):  639.8\n[['3' '5' '9' '6' '8' '2' '4' '1' '7']\n ['2' '8' '6' '4' '1' '7' '5' '9' '3']\n ['4' '1' '7' '5' '9' '3' '8' '6' '2']\n ['7' '6' '1' '3' '5' '9' '2' '4' '8']\n ['9' '2' '3' '8' '7' '4' '1' '5' '6']\n ['8' '4' '5' '1' '2' '6' '7' '3' '9']\n ['6' '3' '8' '2' '4' '1' '9' '7' '5']\n ['5' '7' '4' '9' '6' '8' '3' '2' '1']\n ['1' '9' '2' '7' '3' '5' '6' '8' '4']]\n"
     ]
    }
   ],
   "source": [
    "board = load_board_for_solver('guardian-04-10-21.csv')\n",
    "solve_board(board)"
   ]
  },
  {
   "cell_type": "code",
   "execution_count": 53,
   "metadata": {},
   "outputs": [
    {
     "output_type": "stream",
     "name": "stdout",
     "text": [
      "Time to solve (ms):  2751.7\n[['8' '5' '3' '6' '2' '7' '1' '9' '4']\n ['1' '7' '9' '4' '5' '3' '2' '8' '6']\n ['2' '4' '6' '1' '8' '9' '3' '7' '5']\n ['9' '2' '4' '8' '3' '5' '6' '1' '7']\n ['3' '8' '1' '7' '6' '4' '5' '2' '9']\n ['5' '6' '7' '9' '1' '2' '4' '3' '8']\n ['6' '9' '2' '3' '4' '8' '7' '5' '1']\n ['4' '3' '8' '5' '7' '1' '9' '6' '2']\n ['7' '1' '5' '2' '9' '6' '8' '4' '3']]\n"
     ]
    }
   ],
   "source": [
    "manual_entry_board = np.array([\n",
    " ['.', '.', '.', '.', '.', '.', '.', '9', '.'],\n",
    " ['.', '7', '.', '.', '5', '3', '.', '.', '6'],\n",
    " ['2', '.', '.', '.', '.', '.', '3', '.', '5'],\n",
    " ['.', '.', '4', '.', '3', '5', '.', '.', '7'],\n",
    " ['.', '.', '1', '.', '6', '.', '.', '.', '.'],\n",
    " ['.', '.', '7', '.', '1', '2', '.', '.', '8'],\n",
    " ['6', '.', '.', '.', '.', '.', '7', '.', '1'],\n",
    " ['.', '3', '.', '.', '7', '1', '.', '.', '2'],\n",
    " ['.', '.', '.', '.', '.', '.', '.', '4', '.']])\n",
    "\n",
    "solve_board(manual_entry_board)"
   ]
  }
 ]
}